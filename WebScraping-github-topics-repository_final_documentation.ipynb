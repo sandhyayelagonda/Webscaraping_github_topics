{
 "cells": [
  {
   "cell_type": "markdown",
   "id": "5228ae0f",
   "metadata": {},
   "source": [
    "## Scraping The Top Repositories for Topics on GitHub\n",
    "\n",
    "- TODO :\n",
    "1. Introduction about WebScraping\n",
    "    - Web scraping is a term used to describe the use of a program or algorithm to extract and process large amounts of data     from the web\n",
    "\n",
    "2. Introduction about github and problem statement\n",
    "    - Github contains whole bunch of repositories.We are going to use topics page from topic page we are going to find list of topic repositories and download\n",
    "    \n",
    "3. Tools we used - python, requests, BeautifulSoup, pandas.\n",
    "   "
   ]
  },
  {
   "cell_type": "markdown",
   "id": "9c353317",
   "metadata": {},
   "source": [
    "### Importants Links\n",
    "- Github link - https://github.com/topics\n",
    "- import request -hhttps://requests.readthedocs.io/en/latest/\n",
    "- we can see response of status code -https://developer.mozilla.org/en-US/docs/Web/HTTP/Status "
   ]
  },
  {
   "cell_type": "markdown",
   "id": "28f98efe",
   "metadata": {},
   "source": [
    "### Project outline:\n",
    "- we'r going to scrape https://github.com/topics\n",
    "- We'll get a list of topics. For each topic, we'll get topic title, topic page URL and topic description\n",
    "- For each topic, we'll get the top respositories in the topic from the topic page\n",
    "- For each respository, we'll grab the repo name, username, stars and repo URL"
   ]
  },
  {
   "cell_type": "markdown",
   "id": "3a030117",
   "metadata": {},
   "source": [
    "## Scrape the list of topics from github\n",
    "- use request to download page\n",
    "- use bs4 to parse and extract information\n",
    "- convert to pandas data frame"
   ]
  },
  {
   "cell_type": "markdown",
   "id": "c2081b90",
   "metadata": {},
   "source": [
    "Lets write function to download page"
   ]
  },
  {
   "cell_type": "code",
   "execution_count": 43,
   "id": "1e0c827e",
   "metadata": {},
   "outputs": [],
   "source": [
    "# Write function to download page\n",
    "\n",
    "import requests\n",
    "from bs4 import BeautifulSoup\n",
    "\n",
    "def get_topic_page():\n",
    "    topics_url = 'https://github.com/topics'\n",
    "    \n",
    "    #Download the page\n",
    "    response = requests.get(topics_url)\n",
    "    \n",
    "    # check the sucessfull response\n",
    "    if response.status_code != 200:\n",
    "        raise Exception('failed to load {}'.format(topic_url))\n",
    "        \n",
    "    #parse using BeautifulSoup\n",
    "    doc = BeautifulSoup(response.text, 'html.parser')\n",
    "    return doc"
   ]
  },
  {
   "cell_type": "code",
   "execution_count": 44,
   "id": "40b4695d",
   "metadata": {},
   "outputs": [],
   "source": [
    "doc = get_topic_page()"
   ]
  },
  {
   "cell_type": "code",
   "execution_count": 45,
   "id": "dcb4b248",
   "metadata": {},
   "outputs": [
    {
     "data": {
      "text/plain": [
       "<a class=\"px-2 py-4 color-bg-accent-emphasis color-fg-on-emphasis show-on-focus js-skip-to-content\" href=\"#start-of-content\">Skip to content</a>"
      ]
     },
     "execution_count": 45,
     "metadata": {},
     "output_type": "execute_result"
    }
   ],
   "source": [
    "doc.find('a')"
   ]
  },
  {
   "cell_type": "code",
   "execution_count": null,
   "id": "e3def833",
   "metadata": {},
   "outputs": [],
   "source": []
  },
  {
   "cell_type": "markdown",
   "id": "6171caef",
   "metadata": {},
   "source": [
    "Let's create helper function to parse information from the page.\n",
    "\n",
    "To get topic titles, we can pick 'p' tags with the 'class' ..\n",
    "![](https://i.imgur.com/B6Se4Wl.png)"
   ]
  },
  {
   "cell_type": "code",
   "execution_count": 46,
   "id": "db5b0691",
   "metadata": {},
   "outputs": [],
   "source": [
    "def get_topic_titles(doc):\n",
    "    selection_class = 'f3 lh-condensed mb-0 mt-1 Link--primary'\n",
    "    topic_title_tags = doc.find_all('p',{'class' : selection_class})\n",
    "    \n",
    "    topic_titles = []\n",
    "\n",
    "    for tags in topic_title_tags:\n",
    "        topic_titles.append(tags.text)\n",
    "    \n",
    "    return topic_titles"
   ]
  },
  {
   "cell_type": "markdown",
   "id": "21a13906",
   "metadata": {},
   "source": [
    "get_topic_titles can be used to get the titles"
   ]
  },
  {
   "cell_type": "code",
   "execution_count": 47,
   "id": "52ec3e2c",
   "metadata": {},
   "outputs": [],
   "source": [
    "titles = get_topic_titles(doc)\n"
   ]
  },
  {
   "cell_type": "code",
   "execution_count": 21,
   "id": "0d50fbbf",
   "metadata": {},
   "outputs": [
    {
     "data": {
      "text/plain": [
       "30"
      ]
     },
     "execution_count": 21,
     "metadata": {},
     "output_type": "execute_result"
    }
   ],
   "source": [
    "len(titles)"
   ]
  },
  {
   "cell_type": "code",
   "execution_count": 22,
   "id": "88c67bd7",
   "metadata": {
    "scrolled": true
   },
   "outputs": [
    {
     "data": {
      "text/plain": [
       "['3D', 'Ajax', 'Algorithm', 'Amp', 'Android']"
      ]
     },
     "execution_count": 22,
     "metadata": {},
     "output_type": "execute_result"
    }
   ],
   "source": [
    "titles[:5]"
   ]
  },
  {
   "cell_type": "code",
   "execution_count": null,
   "id": "7958077d",
   "metadata": {},
   "outputs": [],
   "source": []
  },
  {
   "cell_type": "markdown",
   "id": "56b61fbd",
   "metadata": {},
   "source": [
    "Similarly we have defined functions for descreptions and urls."
   ]
  },
  {
   "cell_type": "markdown",
   "id": "486489e5",
   "metadata": {},
   "source": [
    "To get_topic_desc, we can pick 'p' tags with the 'class' ..\n",
    "![](https://i.imgur.com/jkWPAxj.png)"
   ]
  },
  {
   "cell_type": "code",
   "execution_count": 48,
   "id": "c7f66798",
   "metadata": {},
   "outputs": [],
   "source": [
    "def get_topic_desc(doc):\n",
    "    selection_class1 = 'f5 color-fg-muted mb-0 mt-1'\n",
    "    desc_tag = doc.find_all('p',{'class' : selection_class1})\n",
    "    \n",
    "    topic_desc = []\n",
    "\n",
    "    for tags in desc_tag:\n",
    "        topic_desc.append(tags.text.strip())\n",
    "        \n",
    "    return desc_tag"
   ]
  },
  {
   "cell_type": "code",
   "execution_count": 50,
   "id": "f22ae0fa",
   "metadata": {},
   "outputs": [
    {
     "data": {
      "text/plain": [
       "30"
      ]
     },
     "execution_count": 50,
     "metadata": {},
     "output_type": "execute_result"
    }
   ],
   "source": [
    "len(get_topic_desc(doc))"
   ]
  },
  {
   "cell_type": "markdown",
   "id": "7faf9e42",
   "metadata": {},
   "source": [
    "To get_topic_urls, we can pic 'a' tags with 'href'\n",
    "![](https://i.imgur.com/AvXO0JD.png)"
   ]
  },
  {
   "cell_type": "code",
   "execution_count": 51,
   "id": "1a84671f",
   "metadata": {},
   "outputs": [],
   "source": [
    "def get_topic_urls(doc):\n",
    "    topic_link_tags = doc.find_all('a',{'class':'no-underline flex-grow-0'})\n",
    "        \n",
    "    topic_urls = []\n",
    "    base_url = 'https://github.com'\n",
    "\n",
    "    for tag in topic_link_tags:\n",
    "        topic_urls.append(base_url + tag['href'])\n",
    "    return topic_urls"
   ]
  },
  {
   "cell_type": "code",
   "execution_count": 52,
   "id": "578b02dc",
   "metadata": {},
   "outputs": [
    {
     "data": {
      "text/plain": [
       "['https://github.com/topics/3d',\n",
       " 'https://github.com/topics/ajax',\n",
       " 'https://github.com/topics/algorithm',\n",
       " 'https://github.com/topics/amphp',\n",
       " 'https://github.com/topics/android',\n",
       " 'https://github.com/topics/angular',\n",
       " 'https://github.com/topics/ansible',\n",
       " 'https://github.com/topics/api',\n",
       " 'https://github.com/topics/arduino',\n",
       " 'https://github.com/topics/aspnet',\n",
       " 'https://github.com/topics/atom',\n",
       " 'https://github.com/topics/awesome',\n",
       " 'https://github.com/topics/aws',\n",
       " 'https://github.com/topics/azure',\n",
       " 'https://github.com/topics/babel',\n",
       " 'https://github.com/topics/bash',\n",
       " 'https://github.com/topics/bitcoin',\n",
       " 'https://github.com/topics/bootstrap',\n",
       " 'https://github.com/topics/bot',\n",
       " 'https://github.com/topics/c',\n",
       " 'https://github.com/topics/chrome',\n",
       " 'https://github.com/topics/chrome-extension',\n",
       " 'https://github.com/topics/cli',\n",
       " 'https://github.com/topics/clojure',\n",
       " 'https://github.com/topics/code-quality',\n",
       " 'https://github.com/topics/code-review',\n",
       " 'https://github.com/topics/compiler',\n",
       " 'https://github.com/topics/continuous-integration',\n",
       " 'https://github.com/topics/covid-19',\n",
       " 'https://github.com/topics/cpp']"
      ]
     },
     "execution_count": 52,
     "metadata": {},
     "output_type": "execute_result"
    }
   ],
   "source": [
    "get_topic_urls(doc)"
   ]
  },
  {
   "cell_type": "markdown",
   "id": "eaa30529",
   "metadata": {},
   "source": [
    "Let's put this all together into single function and convert single dataframe"
   ]
  },
  {
   "cell_type": "code",
   "execution_count": 53,
   "id": "e80a4743",
   "metadata": {},
   "outputs": [],
   "source": [
    "import pandas as pd\n",
    "def scrape_topics():\n",
    "    topics_url = 'https://github.com/topics'\n",
    "    response = requests.get(topics_url)\n",
    "    if response.status_code != 200:\n",
    "        raise Exception('failed to load {}'.format(topic_url))\n",
    "    doc = BeautifulSoup(response.text, 'html.parser')\n",
    "    \n",
    "    topic_dict = {\n",
    "        'title' : get_topic_titles(doc),\n",
    "        'descrption' : get_topic_desc(doc),\n",
    "        'url' : get_topic_urls(doc)\n",
    "    }\n",
    "    \n",
    "    return pd.DataFrame(topic_dict)"
   ]
  },
  {
   "cell_type": "code",
   "execution_count": 54,
   "id": "cfd5bc90",
   "metadata": {},
   "outputs": [
    {
     "data": {
      "text/html": [
       "<div>\n",
       "<style scoped>\n",
       "    .dataframe tbody tr th:only-of-type {\n",
       "        vertical-align: middle;\n",
       "    }\n",
       "\n",
       "    .dataframe tbody tr th {\n",
       "        vertical-align: top;\n",
       "    }\n",
       "\n",
       "    .dataframe thead th {\n",
       "        text-align: right;\n",
       "    }\n",
       "</style>\n",
       "<table border=\"1\" class=\"dataframe\">\n",
       "  <thead>\n",
       "    <tr style=\"text-align: right;\">\n",
       "      <th></th>\n",
       "      <th>title</th>\n",
       "      <th>descrption</th>\n",
       "      <th>url</th>\n",
       "    </tr>\n",
       "  </thead>\n",
       "  <tbody>\n",
       "    <tr>\n",
       "      <th>0</th>\n",
       "      <td>3D</td>\n",
       "      <td>[\\n          3D refers to the use of three-dim...</td>\n",
       "      <td>https://github.com/topics/3d</td>\n",
       "    </tr>\n",
       "    <tr>\n",
       "      <th>1</th>\n",
       "      <td>Ajax</td>\n",
       "      <td>[\\n          Ajax is a technique for creating ...</td>\n",
       "      <td>https://github.com/topics/ajax</td>\n",
       "    </tr>\n",
       "    <tr>\n",
       "      <th>2</th>\n",
       "      <td>Algorithm</td>\n",
       "      <td>[\\n          Algorithms are self-contained seq...</td>\n",
       "      <td>https://github.com/topics/algorithm</td>\n",
       "    </tr>\n",
       "    <tr>\n",
       "      <th>3</th>\n",
       "      <td>Amp</td>\n",
       "      <td>[\\n          Amp is a non-blocking concurrency...</td>\n",
       "      <td>https://github.com/topics/amphp</td>\n",
       "    </tr>\n",
       "    <tr>\n",
       "      <th>4</th>\n",
       "      <td>Android</td>\n",
       "      <td>[\\n          Android is an operating system bu...</td>\n",
       "      <td>https://github.com/topics/android</td>\n",
       "    </tr>\n",
       "    <tr>\n",
       "      <th>5</th>\n",
       "      <td>Angular</td>\n",
       "      <td>[\\n          Angular is an open source web app...</td>\n",
       "      <td>https://github.com/topics/angular</td>\n",
       "    </tr>\n",
       "    <tr>\n",
       "      <th>6</th>\n",
       "      <td>Ansible</td>\n",
       "      <td>[\\n          Ansible is a simple and powerful ...</td>\n",
       "      <td>https://github.com/topics/ansible</td>\n",
       "    </tr>\n",
       "    <tr>\n",
       "      <th>7</th>\n",
       "      <td>API</td>\n",
       "      <td>[\\n          An API (Application Programming I...</td>\n",
       "      <td>https://github.com/topics/api</td>\n",
       "    </tr>\n",
       "    <tr>\n",
       "      <th>8</th>\n",
       "      <td>Arduino</td>\n",
       "      <td>[\\n          Arduino is an open source platfor...</td>\n",
       "      <td>https://github.com/topics/arduino</td>\n",
       "    </tr>\n",
       "    <tr>\n",
       "      <th>9</th>\n",
       "      <td>ASP.NET</td>\n",
       "      <td>[\\n          ASP.NET is a web framework for bu...</td>\n",
       "      <td>https://github.com/topics/aspnet</td>\n",
       "    </tr>\n",
       "    <tr>\n",
       "      <th>10</th>\n",
       "      <td>Atom</td>\n",
       "      <td>[\\n          Atom is a open source text editor...</td>\n",
       "      <td>https://github.com/topics/atom</td>\n",
       "    </tr>\n",
       "    <tr>\n",
       "      <th>11</th>\n",
       "      <td>Awesome Lists</td>\n",
       "      <td>[\\n          An awesome list is a list of awes...</td>\n",
       "      <td>https://github.com/topics/awesome</td>\n",
       "    </tr>\n",
       "    <tr>\n",
       "      <th>12</th>\n",
       "      <td>Amazon Web Services</td>\n",
       "      <td>[\\n          Amazon Web Services provides on-d...</td>\n",
       "      <td>https://github.com/topics/aws</td>\n",
       "    </tr>\n",
       "    <tr>\n",
       "      <th>13</th>\n",
       "      <td>Azure</td>\n",
       "      <td>[\\n          Azure is a cloud computing servic...</td>\n",
       "      <td>https://github.com/topics/azure</td>\n",
       "    </tr>\n",
       "    <tr>\n",
       "      <th>14</th>\n",
       "      <td>Babel</td>\n",
       "      <td>[\\n          Babel is a compiler for writing n...</td>\n",
       "      <td>https://github.com/topics/babel</td>\n",
       "    </tr>\n",
       "    <tr>\n",
       "      <th>15</th>\n",
       "      <td>Bash</td>\n",
       "      <td>[\\n          Bash is a shell and command langu...</td>\n",
       "      <td>https://github.com/topics/bash</td>\n",
       "    </tr>\n",
       "    <tr>\n",
       "      <th>16</th>\n",
       "      <td>Bitcoin</td>\n",
       "      <td>[\\n          Bitcoin is a cryptocurrency devel...</td>\n",
       "      <td>https://github.com/topics/bitcoin</td>\n",
       "    </tr>\n",
       "    <tr>\n",
       "      <th>17</th>\n",
       "      <td>Bootstrap</td>\n",
       "      <td>[\\n          Bootstrap is an HTML, CSS, and Ja...</td>\n",
       "      <td>https://github.com/topics/bootstrap</td>\n",
       "    </tr>\n",
       "    <tr>\n",
       "      <th>18</th>\n",
       "      <td>Bot</td>\n",
       "      <td>[\\n          A bot is an application that runs...</td>\n",
       "      <td>https://github.com/topics/bot</td>\n",
       "    </tr>\n",
       "    <tr>\n",
       "      <th>19</th>\n",
       "      <td>C</td>\n",
       "      <td>[\\n          C is a general purpose programmin...</td>\n",
       "      <td>https://github.com/topics/c</td>\n",
       "    </tr>\n",
       "    <tr>\n",
       "      <th>20</th>\n",
       "      <td>Chrome</td>\n",
       "      <td>[\\n          Chrome is a web browser from the ...</td>\n",
       "      <td>https://github.com/topics/chrome</td>\n",
       "    </tr>\n",
       "    <tr>\n",
       "      <th>21</th>\n",
       "      <td>Chrome extension</td>\n",
       "      <td>[\\n          Chrome extensions enable users to...</td>\n",
       "      <td>https://github.com/topics/chrome-extension</td>\n",
       "    </tr>\n",
       "    <tr>\n",
       "      <th>22</th>\n",
       "      <td>Command line interface</td>\n",
       "      <td>[\\n          A CLI, or command-line interface,...</td>\n",
       "      <td>https://github.com/topics/cli</td>\n",
       "    </tr>\n",
       "    <tr>\n",
       "      <th>23</th>\n",
       "      <td>Clojure</td>\n",
       "      <td>[\\n          Clojure is a dynamic, general-pur...</td>\n",
       "      <td>https://github.com/topics/clojure</td>\n",
       "    </tr>\n",
       "    <tr>\n",
       "      <th>24</th>\n",
       "      <td>Code quality</td>\n",
       "      <td>[\\n          Automate your code review with st...</td>\n",
       "      <td>https://github.com/topics/code-quality</td>\n",
       "    </tr>\n",
       "    <tr>\n",
       "      <th>25</th>\n",
       "      <td>Code review</td>\n",
       "      <td>[\\n          Ensure your code meets quality st...</td>\n",
       "      <td>https://github.com/topics/code-review</td>\n",
       "    </tr>\n",
       "    <tr>\n",
       "      <th>26</th>\n",
       "      <td>Compiler</td>\n",
       "      <td>[\\n          Compilers are software that trans...</td>\n",
       "      <td>https://github.com/topics/compiler</td>\n",
       "    </tr>\n",
       "    <tr>\n",
       "      <th>27</th>\n",
       "      <td>Continuous integration</td>\n",
       "      <td>[\\n          Automatically build and test your...</td>\n",
       "      <td>https://github.com/topics/continuous-integration</td>\n",
       "    </tr>\n",
       "    <tr>\n",
       "      <th>28</th>\n",
       "      <td>COVID-19</td>\n",
       "      <td>[\\n          The coronavirus disease 2019 (COV...</td>\n",
       "      <td>https://github.com/topics/covid-19</td>\n",
       "    </tr>\n",
       "    <tr>\n",
       "      <th>29</th>\n",
       "      <td>C++</td>\n",
       "      <td>[\\n          C++ is a general purpose and obje...</td>\n",
       "      <td>https://github.com/topics/cpp</td>\n",
       "    </tr>\n",
       "  </tbody>\n",
       "</table>\n",
       "</div>"
      ],
      "text/plain": [
       "                     title                                         descrption  \\\n",
       "0                       3D  [\\n          3D refers to the use of three-dim...   \n",
       "1                     Ajax  [\\n          Ajax is a technique for creating ...   \n",
       "2                Algorithm  [\\n          Algorithms are self-contained seq...   \n",
       "3                      Amp  [\\n          Amp is a non-blocking concurrency...   \n",
       "4                  Android  [\\n          Android is an operating system bu...   \n",
       "5                  Angular  [\\n          Angular is an open source web app...   \n",
       "6                  Ansible  [\\n          Ansible is a simple and powerful ...   \n",
       "7                      API  [\\n          An API (Application Programming I...   \n",
       "8                  Arduino  [\\n          Arduino is an open source platfor...   \n",
       "9                  ASP.NET  [\\n          ASP.NET is a web framework for bu...   \n",
       "10                    Atom  [\\n          Atom is a open source text editor...   \n",
       "11           Awesome Lists  [\\n          An awesome list is a list of awes...   \n",
       "12     Amazon Web Services  [\\n          Amazon Web Services provides on-d...   \n",
       "13                   Azure  [\\n          Azure is a cloud computing servic...   \n",
       "14                   Babel  [\\n          Babel is a compiler for writing n...   \n",
       "15                    Bash  [\\n          Bash is a shell and command langu...   \n",
       "16                 Bitcoin  [\\n          Bitcoin is a cryptocurrency devel...   \n",
       "17               Bootstrap  [\\n          Bootstrap is an HTML, CSS, and Ja...   \n",
       "18                     Bot  [\\n          A bot is an application that runs...   \n",
       "19                       C  [\\n          C is a general purpose programmin...   \n",
       "20                  Chrome  [\\n          Chrome is a web browser from the ...   \n",
       "21        Chrome extension  [\\n          Chrome extensions enable users to...   \n",
       "22  Command line interface  [\\n          A CLI, or command-line interface,...   \n",
       "23                 Clojure  [\\n          Clojure is a dynamic, general-pur...   \n",
       "24            Code quality  [\\n          Automate your code review with st...   \n",
       "25             Code review  [\\n          Ensure your code meets quality st...   \n",
       "26                Compiler  [\\n          Compilers are software that trans...   \n",
       "27  Continuous integration  [\\n          Automatically build and test your...   \n",
       "28                COVID-19  [\\n          The coronavirus disease 2019 (COV...   \n",
       "29                     C++  [\\n          C++ is a general purpose and obje...   \n",
       "\n",
       "                                                 url  \n",
       "0                       https://github.com/topics/3d  \n",
       "1                     https://github.com/topics/ajax  \n",
       "2                https://github.com/topics/algorithm  \n",
       "3                    https://github.com/topics/amphp  \n",
       "4                  https://github.com/topics/android  \n",
       "5                  https://github.com/topics/angular  \n",
       "6                  https://github.com/topics/ansible  \n",
       "7                      https://github.com/topics/api  \n",
       "8                  https://github.com/topics/arduino  \n",
       "9                   https://github.com/topics/aspnet  \n",
       "10                    https://github.com/topics/atom  \n",
       "11                 https://github.com/topics/awesome  \n",
       "12                     https://github.com/topics/aws  \n",
       "13                   https://github.com/topics/azure  \n",
       "14                   https://github.com/topics/babel  \n",
       "15                    https://github.com/topics/bash  \n",
       "16                 https://github.com/topics/bitcoin  \n",
       "17               https://github.com/topics/bootstrap  \n",
       "18                     https://github.com/topics/bot  \n",
       "19                       https://github.com/topics/c  \n",
       "20                  https://github.com/topics/chrome  \n",
       "21        https://github.com/topics/chrome-extension  \n",
       "22                     https://github.com/topics/cli  \n",
       "23                 https://github.com/topics/clojure  \n",
       "24            https://github.com/topics/code-quality  \n",
       "25             https://github.com/topics/code-review  \n",
       "26                https://github.com/topics/compiler  \n",
       "27  https://github.com/topics/continuous-integration  \n",
       "28                https://github.com/topics/covid-19  \n",
       "29                     https://github.com/topics/cpp  "
      ]
     },
     "execution_count": 54,
     "metadata": {},
     "output_type": "execute_result"
    }
   ],
   "source": [
    "scrape_topics()"
   ]
  },
  {
   "cell_type": "markdown",
   "id": "a49e10a1",
   "metadata": {},
   "source": [
    "## Get the top respositories in the topic from the topic page\n",
    "\n",
    "- Get the topic url from topic urls\n",
    "- From topic url we can find username, repo name, url and Stars\n",
    "- convert to pandas data frame"
   ]
  },
  {
   "cell_type": "markdown",
   "id": "d500750c",
   "metadata": {},
   "source": [
    "Let's write the function to get topic url"
   ]
  },
  {
   "cell_type": "code",
   "execution_count": 56,
   "id": "1aa76c25",
   "metadata": {},
   "outputs": [],
   "source": [
    "def get_topic_page(topic_url):\n",
    "    \n",
    "    # download the page\n",
    "    response = requests.get(topic_url)\n",
    "    \n",
    "    # check the sucessfull response\n",
    "    if response.status_code != 200:\n",
    "        raise Exception('failed to load {}'.format(topic_url))\n",
    "    \n",
    "    #parse using BeautifulSoup\n",
    "    topic_doc = BeautifulSoup(response.text, 'html.parser')\n",
    "    \n",
    "    return topic_doc"
   ]
  },
  {
   "cell_type": "code",
   "execution_count": 58,
   "id": "db9186f3",
   "metadata": {},
   "outputs": [],
   "source": [
    "doc = get_topic_page('https://github.com/topics/3d')"
   ]
  },
  {
   "cell_type": "code",
   "execution_count": 61,
   "id": "07d72e22",
   "metadata": {},
   "outputs": [
    {
     "data": {
      "text/plain": [
       "5"
      ]
     },
     "execution_count": 61,
     "metadata": {},
     "output_type": "execute_result"
    }
   ],
   "source": [
    "len(doc)"
   ]
  },
  {
   "cell_type": "markdown",
   "id": "dadbc17c",
   "metadata": {},
   "source": [
    "To get_repo_info, from 'h3' tag we get 'a' tags for username and repo_name\n",
    "To get repo_url, We used base_url='https://github.com' with 'href'\n",
    "![](https://i.imgur.com/0VOAj34.png)"
   ]
  },
  {
   "cell_type": "code",
   "execution_count": 63,
   "id": "4b884709",
   "metadata": {},
   "outputs": [],
   "source": [
    "def get_repo_info(h3_tags, star_tag):\n",
    "    # returns all the requried information about repository\n",
    "    a_tags = h3_tags.find_all('a')\n",
    "    user_name = a_tags[0].text.strip()\n",
    "    repo_name = a_tags[1].text.strip()\n",
    "    repo_url = base_url + a_tags[1]['href']\n",
    "    a_tags = h3_tags.find_all('span')\n",
    "    stars = parse_star_count(star_tag.text.strip())\n",
    "    return user_name, repo_name, stars, repo_url"
   ]
  },
  {
   "cell_type": "markdown",
   "id": "e905eb53",
   "metadata": {},
   "source": [
    "From 'h3' tage will get 'a' tag for username and repo_name\n",
    "![](https://i.imgur.com/xjqtXx1.png)"
   ]
  },
  {
   "cell_type": "markdown",
   "id": "edd16987",
   "metadata": {},
   "source": [
    "To get the stars, we need 'span' tag with the 'class'\n",
    "![](https://i.imgur.com/i4FD8QA.png)"
   ]
  },
  {
   "cell_type": "code",
   "execution_count": 64,
   "id": "3c549fab",
   "metadata": {},
   "outputs": [],
   "source": [
    "def get_topic_repos(topic_doc):\n",
    "    \n",
    "    \n",
    "    # Get tags containing Username, repo_title, repo_url\n",
    "    h3_selection = 'f3 color-fg-muted text-normal lh-condensed'\n",
    "    repo_tags = topic_doc.find_all('h3', {'class' : h3_selection})\n",
    "    \n",
    "    #Get star tags\n",
    "    star_selection = 'Counter js-social-count'\n",
    "    star_tag = topic_doc.find_all('span', {'class' : star_selection})\n",
    "    \n",
    "    topic_repos_dict = {\n",
    "        'user_name':[],\n",
    "        'repo_name':[],\n",
    "        'repo_url':[],\n",
    "        'stars':[]\n",
    "    }\n",
    "    \n",
    "    #Get repo info\n",
    "    for i in range(len(repo_tags)):\n",
    "        repo_info = get_repo_info(repo_tags[i], star_tag[i])\n",
    "        topic_repos_dict['user_name'].append(repo_info[0])\n",
    "        topic_repos_dict['repo_name'].append(repo_info[1])\n",
    "        topic_repos_dict['stars'].append(repo_info[3])\n",
    "        topic_repos_dict['repo_url'].append(repo_info[2])\n",
    "    \n",
    "    \n",
    "    return pd.DataFrame(topic_repos_dict)\n",
    "\n",
    "\n",
    "    "
   ]
  },
  {
   "cell_type": "code",
   "execution_count": 72,
   "id": "3ff28c03",
   "metadata": {},
   "outputs": [],
   "source": [
    "import os\n",
    "def scrape_topic(topic_url, path):\n",
    "  \n",
    "    if os.path.exists(path):\n",
    "        print('the file {} already exist, skipping...'.format(path))\n",
    "        return\n",
    "    topic_df = get_topic_repos(get_topic_page(topic_url))\n",
    "    topic_df.to_csv(path, index = None)"
   ]
  },
  {
   "cell_type": "markdown",
   "id": "9fc34c7d",
   "metadata": {},
   "source": [
    "## Putting it all together\n",
    "- We have a function to get the list of topics\n",
    "- We have a function to get csv file for scraped repos from topics page\n",
    "- Let's create function to put all together"
   ]
  },
  {
   "cell_type": "code",
   "execution_count": 1,
   "id": "8a6d5ea3",
   "metadata": {},
   "outputs": [],
   "source": [
    "def scrape_topics_repos():\n",
    "    print('Scraping list of topics')\n",
    "    topics_df = scrape_topics()\n",
    "    \n",
    "    os.makedirs('data', exist_ok = True)\n",
    "    \n",
    "    for index, row in topics_df.iterrows():\n",
    "        print('scraping top repositories for \"{}\"'.format(row['title']))\n",
    "        scrape_topic(row['url'], 'data/{}.csv'.format(row['title']))"
   ]
  },
  {
   "cell_type": "markdown",
   "id": "78499688",
   "metadata": {},
   "source": [
    "Let's run it to scrape the top repos for all the topics on the first page of 'https://github.com/topics'"
   ]
  },
  {
   "cell_type": "code",
   "execution_count": 41,
   "id": "a19cc345",
   "metadata": {},
   "outputs": [
    {
     "name": "stdout",
     "output_type": "stream",
     "text": [
      "Scraping list of topics\n",
      "scraping top repositories for \"3D\"\n",
      "the file Data/3D.csv already exist, skipping...\n",
      "scraping top repositories for \"Ajax\"\n",
      "the file Data/Ajax.csv already exist, skipping...\n",
      "scraping top repositories for \"Algorithm\"\n",
      "the file Data/Algorithm.csv already exist, skipping...\n",
      "scraping top repositories for \"Amp\"\n",
      "the file Data/Amp.csv already exist, skipping...\n",
      "scraping top repositories for \"Android\"\n",
      "the file Data/Android.csv already exist, skipping...\n",
      "scraping top repositories for \"Angular\"\n",
      "the file Data/Angular.csv already exist, skipping...\n",
      "scraping top repositories for \"Ansible\"\n",
      "the file Data/Ansible.csv already exist, skipping...\n",
      "scraping top repositories for \"API\"\n",
      "the file Data/API.csv already exist, skipping...\n",
      "scraping top repositories for \"Arduino\"\n",
      "the file Data/Arduino.csv already exist, skipping...\n",
      "scraping top repositories for \"ASP.NET\"\n",
      "the file Data/ASP.NET.csv already exist, skipping...\n",
      "scraping top repositories for \"Atom\"\n",
      "the file Data/Atom.csv already exist, skipping...\n",
      "scraping top repositories for \"Awesome Lists\"\n",
      "the file Data/Awesome Lists.csv already exist, skipping...\n",
      "scraping top repositories for \"Amazon Web Services\"\n",
      "the file Data/Amazon Web Services.csv already exist, skipping...\n",
      "scraping top repositories for \"Azure\"\n",
      "the file Data/Azure.csv already exist, skipping...\n",
      "scraping top repositories for \"Babel\"\n",
      "the file Data/Babel.csv already exist, skipping...\n",
      "scraping top repositories for \"Bash\"\n",
      "the file Data/Bash.csv already exist, skipping...\n",
      "scraping top repositories for \"Bitcoin\"\n",
      "the file Data/Bitcoin.csv already exist, skipping...\n",
      "scraping top repositories for \"Bootstrap\"\n",
      "the file Data/Bootstrap.csv already exist, skipping...\n",
      "scraping top repositories for \"Bot\"\n",
      "the file Data/Bot.csv already exist, skipping...\n",
      "scraping top repositories for \"C\"\n",
      "the file Data/C.csv already exist, skipping...\n",
      "scraping top repositories for \"Chrome\"\n",
      "the file Data/Chrome.csv already exist, skipping...\n",
      "scraping top repositories for \"Chrome extension\"\n",
      "the file Data/Chrome extension.csv already exist, skipping...\n",
      "scraping top repositories for \"Command line interface\"\n",
      "the file Data/Command line interface.csv already exist, skipping...\n",
      "scraping top repositories for \"Clojure\"\n",
      "the file Data/Clojure.csv already exist, skipping...\n",
      "scraping top repositories for \"Code quality\"\n",
      "the file Data/Code quality.csv already exist, skipping...\n",
      "scraping top repositories for \"Code review\"\n",
      "the file Data/Code review.csv already exist, skipping...\n",
      "scraping top repositories for \"Compiler\"\n",
      "the file Data/Compiler.csv already exist, skipping...\n",
      "scraping top repositories for \"Continuous integration\"\n",
      "the file Data/Continuous integration.csv already exist, skipping...\n",
      "scraping top repositories for \"COVID-19\"\n",
      "the file Data/COVID-19.csv already exist, skipping...\n",
      "scraping top repositories for \"C++\"\n",
      "the file Data/C++.csv already exist, skipping...\n"
     ]
    }
   ],
   "source": [
    "scrape_topics_repos()"
   ]
  },
  {
   "cell_type": "code",
   "execution_count": 42,
   "id": "9a0abaf6",
   "metadata": {},
   "outputs": [
    {
     "data": {
      "text/html": [
       "<div>\n",
       "<style scoped>\n",
       "    .dataframe tbody tr th:only-of-type {\n",
       "        vertical-align: middle;\n",
       "    }\n",
       "\n",
       "    .dataframe tbody tr th {\n",
       "        vertical-align: top;\n",
       "    }\n",
       "\n",
       "    .dataframe thead th {\n",
       "        text-align: right;\n",
       "    }\n",
       "</style>\n",
       "<table border=\"1\" class=\"dataframe\">\n",
       "  <thead>\n",
       "    <tr style=\"text-align: right;\">\n",
       "      <th></th>\n",
       "      <th>user_name</th>\n",
       "      <th>repo_name</th>\n",
       "      <th>repo_url</th>\n",
       "      <th>stars</th>\n",
       "    </tr>\n",
       "  </thead>\n",
       "  <tbody>\n",
       "    <tr>\n",
       "      <th>0</th>\n",
       "      <td>mrdoob</td>\n",
       "      <td>three.js</td>\n",
       "      <td>95000</td>\n",
       "      <td>https://github.com/mrdoob/three.js</td>\n",
       "    </tr>\n",
       "    <tr>\n",
       "      <th>1</th>\n",
       "      <td>pmndrs</td>\n",
       "      <td>react-three-fiber</td>\n",
       "      <td>24000</td>\n",
       "      <td>https://github.com/pmndrs/react-three-fiber</td>\n",
       "    </tr>\n",
       "    <tr>\n",
       "      <th>2</th>\n",
       "      <td>libgdx</td>\n",
       "      <td>libgdx</td>\n",
       "      <td>22000</td>\n",
       "      <td>https://github.com/libgdx/libgdx</td>\n",
       "    </tr>\n",
       "    <tr>\n",
       "      <th>3</th>\n",
       "      <td>BabylonJS</td>\n",
       "      <td>Babylon.js</td>\n",
       "      <td>21000</td>\n",
       "      <td>https://github.com/BabylonJS/Babylon.js</td>\n",
       "    </tr>\n",
       "    <tr>\n",
       "      <th>4</th>\n",
       "      <td>ssloy</td>\n",
       "      <td>tinyrenderer</td>\n",
       "      <td>18000</td>\n",
       "      <td>https://github.com/ssloy/tinyrenderer</td>\n",
       "    </tr>\n",
       "    <tr>\n",
       "      <th>5</th>\n",
       "      <td>lettier</td>\n",
       "      <td>3d-game-shaders-for-beginners</td>\n",
       "      <td>16000</td>\n",
       "      <td>https://github.com/lettier/3d-game-shaders-for...</td>\n",
       "    </tr>\n",
       "    <tr>\n",
       "      <th>6</th>\n",
       "      <td>aframevr</td>\n",
       "      <td>aframe</td>\n",
       "      <td>15000</td>\n",
       "      <td>https://github.com/aframevr/aframe</td>\n",
       "    </tr>\n",
       "    <tr>\n",
       "      <th>7</th>\n",
       "      <td>FreeCAD</td>\n",
       "      <td>FreeCAD</td>\n",
       "      <td>15000</td>\n",
       "      <td>https://github.com/FreeCAD/FreeCAD</td>\n",
       "    </tr>\n",
       "    <tr>\n",
       "      <th>8</th>\n",
       "      <td>CesiumGS</td>\n",
       "      <td>cesium</td>\n",
       "      <td>11000</td>\n",
       "      <td>https://github.com/CesiumGS/cesium</td>\n",
       "    </tr>\n",
       "    <tr>\n",
       "      <th>9</th>\n",
       "      <td>MonoGame</td>\n",
       "      <td>MonoGame</td>\n",
       "      <td>10000</td>\n",
       "      <td>https://github.com/MonoGame/MonoGame</td>\n",
       "    </tr>\n",
       "    <tr>\n",
       "      <th>10</th>\n",
       "      <td>metafizzy</td>\n",
       "      <td>zdog</td>\n",
       "      <td>10000</td>\n",
       "      <td>https://github.com/metafizzy/zdog</td>\n",
       "    </tr>\n",
       "    <tr>\n",
       "      <th>11</th>\n",
       "      <td>blender</td>\n",
       "      <td>blender</td>\n",
       "      <td>9000</td>\n",
       "      <td>https://github.com/blender/blender</td>\n",
       "    </tr>\n",
       "    <tr>\n",
       "      <th>12</th>\n",
       "      <td>isl-org</td>\n",
       "      <td>Open3D</td>\n",
       "      <td>9000</td>\n",
       "      <td>https://github.com/isl-org/Open3D</td>\n",
       "    </tr>\n",
       "    <tr>\n",
       "      <th>13</th>\n",
       "      <td>timzhang642</td>\n",
       "      <td>3D-Machine-Learning</td>\n",
       "      <td>9000</td>\n",
       "      <td>https://github.com/timzhang642/3D-Machine-Lear...</td>\n",
       "    </tr>\n",
       "    <tr>\n",
       "      <th>14</th>\n",
       "      <td>a1studmuffin</td>\n",
       "      <td>SpaceshipGenerator</td>\n",
       "      <td>7000</td>\n",
       "      <td>https://github.com/a1studmuffin/SpaceshipGener...</td>\n",
       "    </tr>\n",
       "    <tr>\n",
       "      <th>15</th>\n",
       "      <td>nerfstudio-project</td>\n",
       "      <td>nerfstudio</td>\n",
       "      <td>6000</td>\n",
       "      <td>https://github.com/nerfstudio-project/nerfstudio</td>\n",
       "    </tr>\n",
       "    <tr>\n",
       "      <th>16</th>\n",
       "      <td>domlysz</td>\n",
       "      <td>BlenderGIS</td>\n",
       "      <td>6000</td>\n",
       "      <td>https://github.com/domlysz/BlenderGIS</td>\n",
       "    </tr>\n",
       "    <tr>\n",
       "      <th>17</th>\n",
       "      <td>FyroxEngine</td>\n",
       "      <td>Fyrox</td>\n",
       "      <td>6000</td>\n",
       "      <td>https://github.com/FyroxEngine/Fyrox</td>\n",
       "    </tr>\n",
       "    <tr>\n",
       "      <th>18</th>\n",
       "      <td>google</td>\n",
       "      <td>model-viewer</td>\n",
       "      <td>6000</td>\n",
       "      <td>https://github.com/google/model-viewer</td>\n",
       "    </tr>\n",
       "    <tr>\n",
       "      <th>19</th>\n",
       "      <td>openscad</td>\n",
       "      <td>openscad</td>\n",
       "      <td>5000</td>\n",
       "      <td>https://github.com/openscad/openscad</td>\n",
       "    </tr>\n",
       "  </tbody>\n",
       "</table>\n",
       "</div>"
      ],
      "text/plain": [
       "             user_name                      repo_name  repo_url  \\\n",
       "0               mrdoob                       three.js     95000   \n",
       "1               pmndrs              react-three-fiber     24000   \n",
       "2               libgdx                         libgdx     22000   \n",
       "3            BabylonJS                     Babylon.js     21000   \n",
       "4                ssloy                   tinyrenderer     18000   \n",
       "5              lettier  3d-game-shaders-for-beginners     16000   \n",
       "6             aframevr                         aframe     15000   \n",
       "7              FreeCAD                        FreeCAD     15000   \n",
       "8             CesiumGS                         cesium     11000   \n",
       "9             MonoGame                       MonoGame     10000   \n",
       "10           metafizzy                           zdog     10000   \n",
       "11             blender                        blender      9000   \n",
       "12             isl-org                         Open3D      9000   \n",
       "13         timzhang642            3D-Machine-Learning      9000   \n",
       "14        a1studmuffin             SpaceshipGenerator      7000   \n",
       "15  nerfstudio-project                     nerfstudio      6000   \n",
       "16             domlysz                     BlenderGIS      6000   \n",
       "17         FyroxEngine                          Fyrox      6000   \n",
       "18              google                   model-viewer      6000   \n",
       "19            openscad                       openscad      5000   \n",
       "\n",
       "                                                stars  \n",
       "0                  https://github.com/mrdoob/three.js  \n",
       "1         https://github.com/pmndrs/react-three-fiber  \n",
       "2                    https://github.com/libgdx/libgdx  \n",
       "3             https://github.com/BabylonJS/Babylon.js  \n",
       "4               https://github.com/ssloy/tinyrenderer  \n",
       "5   https://github.com/lettier/3d-game-shaders-for...  \n",
       "6                  https://github.com/aframevr/aframe  \n",
       "7                  https://github.com/FreeCAD/FreeCAD  \n",
       "8                  https://github.com/CesiumGS/cesium  \n",
       "9                https://github.com/MonoGame/MonoGame  \n",
       "10                  https://github.com/metafizzy/zdog  \n",
       "11                 https://github.com/blender/blender  \n",
       "12                  https://github.com/isl-org/Open3D  \n",
       "13  https://github.com/timzhang642/3D-Machine-Lear...  \n",
       "14  https://github.com/a1studmuffin/SpaceshipGener...  \n",
       "15   https://github.com/nerfstudio-project/nerfstudio  \n",
       "16              https://github.com/domlysz/BlenderGIS  \n",
       "17               https://github.com/FyroxEngine/Fyrox  \n",
       "18             https://github.com/google/model-viewer  \n",
       "19               https://github.com/openscad/openscad  "
      ]
     },
     "execution_count": 42,
     "metadata": {},
     "output_type": "execute_result"
    }
   ],
   "source": [
    "#Read and display a csv using pandas\n",
    "pd.read_csv('data/3d.csv')"
   ]
  },
  {
   "cell_type": "markdown",
   "id": "ed6fc520",
   "metadata": {},
   "source": [
    "## References and future work\n",
    "\n",
    "- Summary\n",
    "    - we'r going to scrape Github topics - https://github.com/topics.\n",
    "    - From Github Will get list of topics.from each topic we can find Topic title, topic descrption and topic url\n",
    "    for example topic title - 3d, descrption is title 3d's descrption and topic url- https://github.com/topics/3d.\n",
    "    - In Each topic will find top repositories \n",
    "    - In Each repositories We can grab informaion like User Name, Repository Name, Repository Url and stars\n",
    "    -amphp\tamp\t4000\thttps://github.com/amphp/amp\n",
    "    \n",
    "- References link found usefull\n",
    "    - Github link - https://github.com/topics\n",
    "    - import request -https://requests.readthedocs.io/en/latest/\n",
    "    - import request -https://www.w3schools.com/python/module_requests.asp\n",
    "    - we can see response of status code -https://developer.mozilla.org/en-US/docs/Web/HTTP/Status\n",
    "\n",
    "- Ideas for future work\n",
    "    - Dataset of Books (Amazon): Create a dataset of popular books in different genres by scraping the site: https://www.amazon.in/gp/bestsellers/books/\n",
    "\n",
    "    - Dataset of Quotes (BrainyQuote): Create a dataset of quotes for different tags/topics by scraping the site :https://www.brainyquote.com/topics\n",
    "\n",
    "    - Dataset of Movies (TMDb): The Movie Database (TMDb) contains information about thousands of movies from around the world: https://www.themoviedb.org/movie.\n",
    "\n",
    "    "
   ]
  },
  {
   "cell_type": "code",
   "execution_count": null,
   "id": "d5a0ac84",
   "metadata": {},
   "outputs": [],
   "source": []
  }
 ],
 "metadata": {
  "kernelspec": {
   "display_name": "Python 3 (ipykernel)",
   "language": "python",
   "name": "python3"
  },
  "language_info": {
   "codemirror_mode": {
    "name": "ipython",
    "version": 3
   },
   "file_extension": ".py",
   "mimetype": "text/x-python",
   "name": "python",
   "nbconvert_exporter": "python",
   "pygments_lexer": "ipython3",
   "version": "3.11.5"
  }
 },
 "nbformat": 4,
 "nbformat_minor": 5
}
